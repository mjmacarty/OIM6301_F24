{
 "cells": [
  {
   "cell_type": "markdown",
   "metadata": {},
   "source": [
    "# Formatting & Repetition w/Counting Loops"
   ]
  },
  {
   "cell_type": "markdown",
   "metadata": {},
   "source": [
    "### Variables\n",
    "* Variable is a name assigned to a Python object \n",
    "* Can assign a variable to any Python object\n",
    "* Used as a reference point for values that may not be known at the start of a program\n",
    "* Should be named descriptively, using underscores to separate multiple words\n",
    "* Avoid [reserved words](https://www.w3schools.com/python/python_ref_keywords.asp) \n",
    "* Avoid conventions like num1, num2\n",
    "### input()\n",
    "* input is a top level built-in function\n",
    "* Can be used to get and store values from a user\n",
    "* Can be used to introduce a pause in code execution\n",
    "* Can be thought of as a listener waiting for the enter key to be pressed\n",
    "* Data captured by input will be string data\n",
    "### Recasting\n",
    "* Transforming one object type to another\n",
    "* Commonly used transformations:\n",
    "    * int([value])\n",
    "    * float([value])\n",
    "    * str([value])\n",
    "    \n",
    "###  Operations \n",
    "* = --> assignment operator\n",
    "* == --> comparison operator for equality, \n",
    "* != --> not equal\n",
    "* <, >, <=, >=\n",
    "* += --> incrementer \n",
    "* -= --> decrementer\n",
    "* other combinations can also be used, i.e. *=, etc,"
   ]
  },
  {
   "cell_type": "markdown",
   "metadata": {},
   "source": [
    "# Symbolic Constants\n",
    "* Some programming languages require you to define a variable BEFORE assigning values to it. \n",
    "* This has some advantages, mainly protects against the data being recast\n",
    "* The advantage also turns out to be somewhat of a disadvantage too\n",
    "* This type of language convention is known as \"strongly type\"\n",
    "* Strongly typed languages may also allow other modifiers such as \"constant\" to be used\n",
    "* The opposite of strongly typed is loosely typed --> Python \n",
    "* Recent updates to Python have added a Pythonic version of strongly typed called \"type hinting\" \n",
    "* However things like constants and otehr contraints cannot be strictly enforced in Python --> anti-Pythonic!\n",
    "* Instead if we have the need to introduce a constant we do it symbolically.\n",
    "* Just a variable named in all CAPS"
   ]
  },
  {
   "cell_type": "code",
   "execution_count": null,
   "metadata": {},
   "outputs": [],
   "source": []
  },
  {
   "cell_type": "code",
   "execution_count": null,
   "metadata": {},
   "outputs": [],
   "source": []
  },
  {
   "cell_type": "markdown",
   "metadata": {},
   "source": [
    "### Counting loops"
   ]
  },
  {
   "cell_type": "code",
   "execution_count": null,
   "metadata": {},
   "outputs": [],
   "source": []
  },
  {
   "cell_type": "markdown",
   "metadata": {},
   "source": [
    "### range is one of several iterable Python objects\n",
    "* `range([start], stop, [step])`\n",
    "* Produces a sequence of integers starting with 0\n",
    "* In Python by default the first index value of any iterable is 0\n",
    "* creates a half-open range object -- excludes the last element\n",
    "* Other iterable objects are\n",
    "    * strings\n",
    "    * lists\n",
    "    * tuples\n",
    "    * dicts\n",
    "    * sets"
   ]
  },
  {
   "cell_type": "code",
   "execution_count": 1,
   "metadata": {},
   "outputs": [
    {
     "name": "stdout",
     "output_type": "stream",
     "text": [
      "H\n",
      "e\n",
      "l\n",
      "l\n",
      "o\n"
     ]
    }
   ],
   "source": [
    "for letter in \"Hello\":\n",
    "    print(letter)"
   ]
  },
  {
   "cell_type": "code",
   "execution_count": 7,
   "metadata": {},
   "outputs": [
    {
     "name": "stdout",
     "output_type": "stream",
     "text": [
      "H e l l o "
     ]
    }
   ],
   "source": [
    "for letter in \"Hello\":\n",
    "    print(letter, end=\" \")"
   ]
  },
  {
   "cell_type": "code",
   "execution_count": null,
   "metadata": {},
   "outputs": [],
   "source": [
    "print(\"H\")\n",
    "print(\"e\")"
   ]
  },
  {
   "cell_type": "code",
   "execution_count": 9,
   "metadata": {},
   "outputs": [
    {
     "name": "stdout",
     "output_type": "stream",
     "text": [
      "0\n",
      "1\n",
      "2\n"
     ]
    }
   ],
   "source": [
    "for integer in range(3):\n",
    "    print(integer)"
   ]
  },
  {
   "cell_type": "code",
   "execution_count": 17,
   "metadata": {},
   "outputs": [
    {
     "name": "stdout",
     "output_type": "stream",
     "text": [
      "1\n",
      "2\n",
      "3\n",
      "4\n"
     ]
    }
   ],
   "source": [
    "for integer in range(1,5):\n",
    "    print(integer)"
   ]
  },
  {
   "cell_type": "code",
   "execution_count": 25,
   "metadata": {},
   "outputs": [
    {
     "name": "stdout",
     "output_type": "stream",
     "text": [
      "0\n",
      "5\n",
      "10\n",
      "15\n",
      "20\n",
      "50\n"
     ]
    }
   ],
   "source": [
    "total = 0\n",
    "for integer in range(0,25, 5):\n",
    "    print(integer)\n",
    "    total += integer\n",
    "print(total)"
   ]
  },
  {
   "cell_type": "code",
   "execution_count": 21,
   "metadata": {},
   "outputs": [
    {
     "data": {
      "text/plain": [
       "5"
      ]
     },
     "execution_count": 21,
     "metadata": {},
     "output_type": "execute_result"
    }
   ],
   "source": [
    "greet = \"Hello\"\n",
    "len(greet)"
   ]
  },
  {
   "cell_type": "code",
   "execution_count": 30,
   "metadata": {},
   "outputs": [
    {
     "data": {
      "text/plain": [
       "'e'"
      ]
     },
     "execution_count": 30,
     "metadata": {},
     "output_type": "execute_result"
    }
   ],
   "source": [
    "greet[1]"
   ]
  },
  {
   "cell_type": "code",
   "execution_count": 40,
   "metadata": {},
   "outputs": [
    {
     "name": "stdout",
     "output_type": "stream",
     "text": [
      "Index     Value\n",
      "---------------\n",
      "  0  \t    H\n",
      "  1  \t    e\n",
      "  2  \t    l\n",
      "  3  \t    l\n",
      "  4  \t    o\n"
     ]
    }
   ],
   "source": [
    "print(f\"{'Index':<10s}{'Value':>5s}\")\n",
    "print(\"-\" * 15)\n",
    "for index in range(len(greet)):\n",
    "    print(f\"{index:^5}\\t{greet[index]:>5}\")"
   ]
  },
  {
   "cell_type": "code",
   "execution_count": 50,
   "metadata": {},
   "outputs": [],
   "source": [
    "fruits = [\"apple\", \"banana\", \"coconut\"]"
   ]
  },
  {
   "cell_type": "code",
   "execution_count": 52,
   "metadata": {},
   "outputs": [
    {
     "data": {
      "text/plain": [
       "'apple'"
      ]
     },
     "execution_count": 52,
     "metadata": {},
     "output_type": "execute_result"
    }
   ],
   "source": [
    "fruits[0]"
   ]
  },
  {
   "cell_type": "code",
   "execution_count": 54,
   "metadata": {},
   "outputs": [
    {
     "name": "stdout",
     "output_type": "stream",
     "text": [
      "I like apples\n",
      "I like bananas\n",
      "I like coconuts\n"
     ]
    }
   ],
   "source": [
    "for fruit in fruits:\n",
    "    print(f\"I like {fruit}s\")"
   ]
  },
  {
   "cell_type": "code",
   "execution_count": 59,
   "metadata": {},
   "outputs": [
    {
     "name": "stdout",
     "output_type": "stream",
     "text": [
      "I like apples\n",
      "I like bananas\n"
     ]
    }
   ],
   "source": [
    "for fruit in fruits[:2]:\n",
    "    print(f\"I like {fruit}s\")"
   ]
  },
  {
   "cell_type": "code",
   "execution_count": 61,
   "metadata": {},
   "outputs": [
    {
     "name": "stdout",
     "output_type": "stream",
     "text": [
      "I like bananas\n",
      "I like coconuts\n"
     ]
    }
   ],
   "source": [
    "for fruit in fruits[1:]:\n",
    "    print(f\"I like {fruit}s\")"
   ]
  },
  {
   "cell_type": "code",
   "execution_count": 73,
   "metadata": {},
   "outputs": [
    {
     "data": {
      "text/plain": [
       "range(0, 1000000)"
      ]
     },
     "execution_count": 73,
     "metadata": {},
     "output_type": "execute_result"
    }
   ],
   "source": [
    "range(1000000)"
   ]
  },
  {
   "cell_type": "code",
   "execution_count": 67,
   "metadata": {},
   "outputs": [
    {
     "data": {
      "text/plain": [
       "[0, 1, 2]"
      ]
     },
     "execution_count": 67,
     "metadata": {},
     "output_type": "execute_result"
    }
   ],
   "source": [
    "integers = [0, 1, 2]\n",
    "integers"
   ]
  },
  {
   "cell_type": "code",
   "execution_count": 69,
   "metadata": {},
   "outputs": [
    {
     "data": {
      "text/plain": [
       "[0, 1, 2]"
      ]
     },
     "execution_count": 69,
     "metadata": {},
     "output_type": "execute_result"
    }
   ],
   "source": [
    "integers = list(range(3))\n",
    "integers"
   ]
  },
  {
   "cell_type": "code",
   "execution_count": 77,
   "metadata": {},
   "outputs": [
    {
     "data": {
      "text/plain": [
       "1000000000.0"
      ]
     },
     "execution_count": 77,
     "metadata": {},
     "output_type": "execute_result"
    }
   ],
   "source": [
    "1e9"
   ]
  },
  {
   "cell_type": "code",
   "execution_count": 79,
   "metadata": {},
   "outputs": [
    {
     "data": {
      "text/plain": [
       "1000000"
      ]
     },
     "execution_count": 79,
     "metadata": {},
     "output_type": "execute_result"
    }
   ],
   "source": [
    "1_000_000"
   ]
  },
  {
   "cell_type": "code",
   "execution_count": null,
   "metadata": {},
   "outputs": [],
   "source": []
  },
  {
   "cell_type": "code",
   "execution_count": null,
   "metadata": {},
   "outputs": [],
   "source": []
  }
 ],
 "metadata": {
  "kernelspec": {
   "display_name": "Python 3 (ipykernel)",
   "language": "python",
   "name": "python3"
  },
  "language_info": {
   "codemirror_mode": {
    "name": "ipython",
    "version": 3
   },
   "file_extension": ".py",
   "mimetype": "text/x-python",
   "name": "python",
   "nbconvert_exporter": "python",
   "pygments_lexer": "ipython3",
   "version": "3.12.4"
  }
 },
 "nbformat": 4,
 "nbformat_minor": 4
}
