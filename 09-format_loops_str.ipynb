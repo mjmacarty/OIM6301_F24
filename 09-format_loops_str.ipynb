{
 "cells": [
  {
   "cell_type": "markdown",
   "metadata": {},
   "source": [
    "# Formatting & Repetition w/Counting Loops"
   ]
  },
  {
   "cell_type": "markdown",
   "metadata": {},
   "source": [
    "### Variables\n",
    "* Variable is a name assigned to a Python object \n",
    "* Can assign a variable to any Python object\n",
    "* Used as a reference point for values that may not be known at the start of a program\n",
    "* Should be named descriptively, using underscores to separate multiple words\n",
    "* Avoid [reserved words](https://www.w3schools.com/python/python_ref_keywords.asp) \n",
    "* Avoid conventions like num1, num2\n",
    "### input()\n",
    "* input is a top level built-in function\n",
    "* Can be used to get and store values from a user\n",
    "* Can be used to introduce a pause in code execution\n",
    "* Can be thought of as a listener waiting for the enter key to be pressed\n",
    "* Data captured by input will be string data\n",
    "### Recasting\n",
    "* Transforming one object type to another\n",
    "* Commonly used transformations:\n",
    "    * int([value])\n",
    "    * float([value])\n",
    "    * str([value])\n",
    "    \n",
    "###  Operations \n",
    "* = --> assignment operator\n",
    "* == --> comparison operator for equality, \n",
    "* != --> not equal\n",
    "* <, >, <=, >=\n",
    "* += --> incrementer \n",
    "* -= --> decrementer\n",
    "* other combinations can also be used, i.e. *=, etc,"
   ]
  },
  {
   "cell_type": "markdown",
   "metadata": {},
   "source": [
    "# Symbolic Constants\n",
    "* Some programming languages require you to define a variable BEFORE assigning values to it. \n",
    "* This has some advantages, mainly protects against the data being recast\n",
    "* The advantage also turns out to be somewhat of a disadvantage too\n",
    "* This type of language convention is known as \"strongly type\"\n",
    "* Strongly typed languages may also allow other modifiers such as \"constant\" to be used\n",
    "* The opposite of strongly typed is loosely typed --> Python \n",
    "* Recent updates to Python have added a Pythonic version of strongly typed called \"type hinting\" \n",
    "* However things like constants and otehr contraints cannot be strictly enforced in Python --> anti-Pythonic!\n",
    "* Instead if we have the need to introduce a constant we do it symbolically.\n",
    "* Just a variable named in all CAPS"
   ]
  },
  {
   "cell_type": "code",
   "execution_count": null,
   "metadata": {},
   "outputs": [],
   "source": []
  },
  {
   "cell_type": "code",
   "execution_count": null,
   "metadata": {},
   "outputs": [],
   "source": []
  },
  {
   "cell_type": "markdown",
   "metadata": {},
   "source": [
    "### Counting loops"
   ]
  },
  {
   "cell_type": "code",
   "execution_count": null,
   "metadata": {},
   "outputs": [],
   "source": []
  },
  {
   "cell_type": "markdown",
   "metadata": {},
   "source": [
    "### range is one of several iterable Python objects\n",
    "* `range([start], stop, [step])`\n",
    "* Produces a sequence of integers starting with 0\n",
    "* In Python by default the first index value of any iterable is 0\n",
    "* creates a half-open range object -- excludes the last element\n",
    "* Other iterable objects are\n",
    "    * strings\n",
    "    * lists\n",
    "    * tuples\n",
    "    * dicts\n",
    "    * sets"
   ]
  },
  {
   "cell_type": "code",
   "execution_count": null,
   "metadata": {},
   "outputs": [],
   "source": []
  },
  {
   "cell_type": "code",
   "execution_count": null,
   "metadata": {},
   "outputs": [],
   "source": []
  },
  {
   "cell_type": "code",
   "execution_count": null,
   "metadata": {},
   "outputs": [],
   "source": []
  },
  {
   "cell_type": "code",
   "execution_count": null,
   "metadata": {},
   "outputs": [],
   "source": []
  },
  {
   "cell_type": "code",
   "execution_count": null,
   "metadata": {},
   "outputs": [],
   "source": []
  },
  {
   "cell_type": "code",
   "execution_count": null,
   "metadata": {},
   "outputs": [],
   "source": []
  },
  {
   "cell_type": "code",
   "execution_count": null,
   "metadata": {},
   "outputs": [],
   "source": []
  },
  {
   "cell_type": "code",
   "execution_count": 19,
   "metadata": {},
   "outputs": [
    {
     "name": "stdout",
     "output_type": "stream",
     "text": [
      "kiwi is a fruit\n",
      "pear is a fruit\n",
      "apple is a fruit\n"
     ]
    }
   ],
   "source": []
  },
  {
   "cell_type": "code",
   "execution_count": 20,
   "metadata": {},
   "outputs": [],
   "source": []
  },
  {
   "cell_type": "code",
   "execution_count": null,
   "metadata": {},
   "outputs": [],
   "source": []
  },
  {
   "cell_type": "code",
   "execution_count": null,
   "metadata": {},
   "outputs": [],
   "source": []
  },
  {
   "cell_type": "code",
   "execution_count": null,
   "metadata": {},
   "outputs": [],
   "source": []
  },
  {
   "cell_type": "code",
   "execution_count": null,
   "metadata": {},
   "outputs": [],
   "source": []
  },
  {
   "cell_type": "code",
   "execution_count": null,
   "metadata": {},
   "outputs": [],
   "source": []
  },
  {
   "cell_type": "code",
   "execution_count": null,
   "metadata": {},
   "outputs": [],
   "source": []
  },
  {
   "cell_type": "code",
   "execution_count": null,
   "metadata": {},
   "outputs": [],
   "source": []
  },
  {
   "cell_type": "code",
   "execution_count": null,
   "metadata": {},
   "outputs": [],
   "source": []
  },
  {
   "cell_type": "code",
   "execution_count": null,
   "metadata": {},
   "outputs": [],
   "source": []
  },
  {
   "cell_type": "code",
   "execution_count": null,
   "metadata": {},
   "outputs": [],
   "source": []
  },
  {
   "cell_type": "code",
   "execution_count": null,
   "metadata": {},
   "outputs": [],
   "source": []
  }
 ],
 "metadata": {
  "kernelspec": {
   "display_name": "Python 3 (ipykernel)",
   "language": "python",
   "name": "python3"
  },
  "language_info": {
   "codemirror_mode": {
    "name": "ipython",
    "version": 3
   },
   "file_extension": ".py",
   "mimetype": "text/x-python",
   "name": "python",
   "nbconvert_exporter": "python",
   "pygments_lexer": "ipython3",
   "version": "3.11.3"
  }
 },
 "nbformat": 4,
 "nbformat_minor": 2
}
