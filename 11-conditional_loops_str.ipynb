{
 "cells": [
  {
   "cell_type": "markdown",
   "id": "7617a8c1",
   "metadata": {},
   "source": [
    "### while (conditional or game) loops\n",
    "* do something until something else is true\n",
    "* watch out for infinite loops\n",
    "* similar to if structures - the code may never run if cindition is not met"
   ]
  },
  {
   "cell_type": "code",
   "execution_count": null,
   "id": "966cb7e7",
   "metadata": {},
   "outputs": [],
   "source": [
    "# this is an infinite loop... don't run in notebook!\n",
    "# while True:\n",
    "#    print(\"I am not a broken record!\")"
   ]
  },
  {
   "cell_type": "code",
   "execution_count": null,
   "id": "53dc0027",
   "metadata": {},
   "outputs": [],
   "source": []
  },
  {
   "cell_type": "code",
   "execution_count": null,
   "id": "cf31a7c7",
   "metadata": {},
   "outputs": [],
   "source": []
  },
  {
   "cell_type": "code",
   "execution_count": null,
   "id": "16474b19",
   "metadata": {},
   "outputs": [],
   "source": [
    "\n",
    "\n",
    "\n",
    "\n"
   ]
  },
  {
   "cell_type": "code",
   "execution_count": null,
   "id": "7289b050",
   "metadata": {},
   "outputs": [],
   "source": []
  },
  {
   "cell_type": "code",
   "execution_count": null,
   "id": "21239760",
   "metadata": {},
   "outputs": [],
   "source": []
  },
  {
   "cell_type": "code",
   "execution_count": null,
   "id": "d307c2c7",
   "metadata": {},
   "outputs": [],
   "source": []
  },
  {
   "cell_type": "code",
   "execution_count": null,
   "id": "ec6ca418",
   "metadata": {},
   "outputs": [],
   "source": []
  },
  {
   "cell_type": "markdown",
   "id": "9557de6c",
   "metadata": {},
   "source": [
    "### collatz conjecture -- everything resolves to 1 with two simple operations"
   ]
  },
  {
   "cell_type": "code",
   "execution_count": null,
   "id": "e6f77565",
   "metadata": {},
   "outputs": [],
   "source": [
    "\n",
    "    \n"
   ]
  },
  {
   "cell_type": "markdown",
   "id": "17dcdf14",
   "metadata": {},
   "source": [
    "### NumPy Financial"
   ]
  },
  {
   "cell_type": "code",
   "execution_count": null,
   "id": "7a4871ec",
   "metadata": {},
   "outputs": [],
   "source": []
  },
  {
   "cell_type": "code",
   "execution_count": 12,
   "id": "4ea99179",
   "metadata": {},
   "outputs": [],
   "source": []
  },
  {
   "cell_type": "code",
   "execution_count": null,
   "id": "0cb69278",
   "metadata": {},
   "outputs": [],
   "source": []
  },
  {
   "cell_type": "code",
   "execution_count": null,
   "id": "0631ab82",
   "metadata": {},
   "outputs": [],
   "source": []
  },
  {
   "cell_type": "code",
   "execution_count": null,
   "id": "96c618d0",
   "metadata": {},
   "outputs": [],
   "source": []
  },
  {
   "cell_type": "code",
   "execution_count": null,
   "id": "3f214b51",
   "metadata": {},
   "outputs": [],
   "source": []
  },
  {
   "cell_type": "code",
   "execution_count": 1,
   "id": "99bf4fa5",
   "metadata": {},
   "outputs": [],
   "source": [
    "# note the inconsistency here where you get a NumPy array as a result\n"
   ]
  },
  {
   "cell_type": "code",
   "execution_count": 2,
   "id": "19bd8aed",
   "metadata": {},
   "outputs": [],
   "source": [
    "# to get the value\n"
   ]
  },
  {
   "cell_type": "code",
   "execution_count": 3,
   "id": "9072a5af",
   "metadata": {},
   "outputs": [],
   "source": [
    "# or\n"
   ]
  },
  {
   "cell_type": "code",
   "execution_count": null,
   "id": "9bf12c7c",
   "metadata": {},
   "outputs": [],
   "source": []
  },
  {
   "cell_type": "code",
   "execution_count": null,
   "id": "413c0673",
   "metadata": {},
   "outputs": [],
   "source": []
  },
  {
   "cell_type": "code",
   "execution_count": null,
   "id": "02afa844",
   "metadata": {},
   "outputs": [],
   "source": []
  }
 ],
 "metadata": {
  "kernelspec": {
   "display_name": "Python 3 (ipykernel)",
   "language": "python",
   "name": "python3"
  },
  "language_info": {
   "codemirror_mode": {
    "name": "ipython",
    "version": 3
   },
   "file_extension": ".py",
   "mimetype": "text/x-python",
   "name": "python",
   "nbconvert_exporter": "python",
   "pygments_lexer": "ipython3",
   "version": "3.9.18"
  }
 },
 "nbformat": 4,
 "nbformat_minor": 5
}
