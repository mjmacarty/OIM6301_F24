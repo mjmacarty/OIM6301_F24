{
 "cells": [
  {
   "cell_type": "markdown",
   "id": "accompanied-wedding",
   "metadata": {},
   "source": [
    "# User Defined Functions\n",
    "* Allow for creation and management of larger programs\n",
    "* Allows for complexity to be separated from program flow\n",
    "* Can minmimize code redundency\n",
    "* Functions can be used to package scripts for use and reuse\n",
    "* Allow us to organize code more effectively\n",
    "* Types:\n",
    "    * no argument, no return value(s) (void)\n",
    "    * no argument, with return value(s)\n",
    "    * argument(s), no return value(s) (void)\n",
    "    * argument(s), with return value(s)\n",
    "* Technically, a function can only have one return value, but it can be a collection\n",
    "* Functions often used to encapsulate an important alogorithm"
   ]
  },
  {
   "cell_type": "code",
   "execution_count": null,
   "id": "monetary-plasma",
   "metadata": {},
   "outputs": [],
   "source": []
  },
  {
   "cell_type": "markdown",
   "id": "distinct-sweet",
   "metadata": {},
   "source": [
    "### Function Examples"
   ]
  },
  {
   "cell_type": "code",
   "execution_count": null,
   "id": "happy-forestry",
   "metadata": {},
   "outputs": [],
   "source": [
    "# pass acts as a placeholder\n",
    "def some_algorithm():\n",
    "    #TODO write some algorithm\n",
    "    pass"
   ]
  },
  {
   "cell_type": "code",
   "execution_count": null,
   "id": "southern-stable",
   "metadata": {},
   "outputs": [],
   "source": []
  },
  {
   "cell_type": "markdown",
   "id": "bd8473a2",
   "metadata": {},
   "source": [
    "### no argument, no return"
   ]
  },
  {
   "cell_type": "code",
   "execution_count": 21,
   "id": "b2f37ff2",
   "metadata": {},
   "outputs": [],
   "source": [
    "def address():\n",
    "    print(\"Babson College\")\n",
    "    print(\"241 Forest St.\")\n",
    "    print(\"Wellesley, MA\")\n"
   ]
  },
  {
   "cell_type": "code",
   "execution_count": 23,
   "id": "nutritional-surname",
   "metadata": {},
   "outputs": [
    {
     "name": "stdout",
     "output_type": "stream",
     "text": [
      "Babson College\n",
      "241 Forest St.\n",
      "Wellesley, MA\n"
     ]
    }
   ],
   "source": [
    "address()"
   ]
  },
  {
   "cell_type": "code",
   "execution_count": 25,
   "id": "f764743a",
   "metadata": {},
   "outputs": [
    {
     "data": {
      "text/plain": [
       "'Babson College'"
      ]
     },
     "execution_count": 25,
     "metadata": {},
     "output_type": "execute_result"
    }
   ],
   "source": [
    "\"Babson College\""
   ]
  },
  {
   "cell_type": "code",
   "execution_count": null,
   "id": "57407ef4",
   "metadata": {},
   "outputs": [],
   "source": []
  },
  {
   "cell_type": "markdown",
   "id": "1a32f19e",
   "metadata": {},
   "source": [
    "### No argument, with return\n"
   ]
  },
  {
   "cell_type": "code",
   "execution_count": 27,
   "id": "4ccde059",
   "metadata": {},
   "outputs": [],
   "source": [
    "def square_four():\n",
    "    return 4 ** 2"
   ]
  },
  {
   "cell_type": "code",
   "execution_count": 29,
   "id": "b122563f-39f4-4b04-adff-f4036d5f4dd5",
   "metadata": {},
   "outputs": [
    {
     "data": {
      "text/plain": [
       "16"
      ]
     },
     "execution_count": 29,
     "metadata": {},
     "output_type": "execute_result"
    }
   ],
   "source": [
    "square_four()"
   ]
  },
  {
   "cell_type": "markdown",
   "id": "3bed2a2b",
   "metadata": {},
   "source": [
    "### Argument(s) and return\n"
   ]
  },
  {
   "cell_type": "code",
   "execution_count": 31,
   "id": "d3f34347",
   "metadata": {},
   "outputs": [],
   "source": [
    "def square(x):\n",
    "    return x ** 2"
   ]
  },
  {
   "cell_type": "code",
   "execution_count": 37,
   "id": "b2e9bf5e-8bef-4364-b919-daaae605840b",
   "metadata": {},
   "outputs": [],
   "source": [
    "sq =  square(5)"
   ]
  },
  {
   "cell_type": "code",
   "execution_count": 39,
   "id": "75c0d790-f8ea-4394-b0a2-1866db7b7e26",
   "metadata": {},
   "outputs": [
    {
     "data": {
      "text/plain": [
       "25"
      ]
     },
     "execution_count": 39,
     "metadata": {},
     "output_type": "execute_result"
    }
   ],
   "source": []
  },
  {
   "cell_type": "code",
   "execution_count": null,
   "id": "7e5a6272-76a9-454a-86dc-a7fe16b77a5a",
   "metadata": {},
   "outputs": [],
   "source": []
  },
  {
   "cell_type": "markdown",
   "id": "b62293eb",
   "metadata": {},
   "source": [
    "### Documentation\n"
   ]
  },
  {
   "cell_type": "code",
   "execution_count": 41,
   "id": "separate-franklin",
   "metadata": {},
   "outputs": [],
   "source": [
    "def sqrt(x):\n",
    "    \"\"\"\n",
    "    Returns the square root of int or float\n",
    "    \"\"\"\n",
    "    return x ** .5"
   ]
  },
  {
   "cell_type": "code",
   "execution_count": 43,
   "id": "d9f4cebd",
   "metadata": {},
   "outputs": [
    {
     "name": "stdout",
     "output_type": "stream",
     "text": [
      "Help on function sqrt in module __main__:\n",
      "\n",
      "sqrt(x)\n",
      "    Returns the square root of int or float\n",
      "\n"
     ]
    }
   ],
   "source": [
    "help(sqrt)"
   ]
  },
  {
   "cell_type": "code",
   "execution_count": null,
   "id": "f871ca60",
   "metadata": {},
   "outputs": [],
   "source": []
  },
  {
   "cell_type": "code",
   "execution_count": null,
   "id": "be9ad03d",
   "metadata": {},
   "outputs": [],
   "source": []
  },
  {
   "cell_type": "code",
   "execution_count": null,
   "id": "39b20e3d",
   "metadata": {},
   "outputs": [],
   "source": []
  },
  {
   "cell_type": "markdown",
   "id": "convertible-morrison",
   "metadata": {},
   "source": [
    "### Optional arguments"
   ]
  },
  {
   "cell_type": "code",
   "execution_count": 45,
   "id": "decimal-dover",
   "metadata": {},
   "outputs": [],
   "source": [
    "def cube_or_square(number, square=True):\n",
    "    if square:\n",
    "        return number ** 2\n",
    "    else:\n",
    "        return number ** 3"
   ]
  },
  {
   "cell_type": "code",
   "execution_count": 49,
   "id": "coordinate-prince",
   "metadata": {},
   "outputs": [
    {
     "data": {
      "text/plain": [
       "8"
      ]
     },
     "execution_count": 49,
     "metadata": {},
     "output_type": "execute_result"
    }
   ],
   "source": [
    "cube_or_square(2, False)"
   ]
  },
  {
   "cell_type": "code",
   "execution_count": null,
   "id": "945b6ef3",
   "metadata": {},
   "outputs": [],
   "source": []
  },
  {
   "cell_type": "markdown",
   "id": "elegant-ballot",
   "metadata": {},
   "source": [
    "### Boolean functions"
   ]
  },
  {
   "cell_type": "code",
   "execution_count": 51,
   "id": "rural-southeast",
   "metadata": {},
   "outputs": [],
   "source": [
    "def is_odd(number):\n",
    "    if number % 2:\n",
    "        return True\n",
    "    else:\n",
    "        return False"
   ]
  },
  {
   "cell_type": "code",
   "execution_count": 55,
   "id": "saving-beads",
   "metadata": {},
   "outputs": [
    {
     "data": {
      "text/plain": [
       "False"
      ]
     },
     "execution_count": 55,
     "metadata": {},
     "output_type": "execute_result"
    }
   ],
   "source": [
    "is_odd(4)"
   ]
  },
  {
   "cell_type": "code",
   "execution_count": null,
   "id": "e996f071",
   "metadata": {},
   "outputs": [],
   "source": []
  },
  {
   "cell_type": "code",
   "execution_count": null,
   "id": "babe407e",
   "metadata": {},
   "outputs": [],
   "source": []
  },
  {
   "cell_type": "code",
   "execution_count": null,
   "id": "aabd14f0",
   "metadata": {},
   "outputs": [],
   "source": []
  },
  {
   "cell_type": "markdown",
   "id": "disabled-japanese",
   "metadata": {},
   "source": [
    "### Algorithmic functions"
   ]
  },
  {
   "cell_type": "code",
   "execution_count": 57,
   "id": "interstate-third",
   "metadata": {},
   "outputs": [],
   "source": [
    "def adder(low, high):\n",
    "    total = 0\n",
    "    while low <= high:\n",
    "        total += low\n",
    "        low += 1\n",
    "    return total    "
   ]
  },
  {
   "cell_type": "code",
   "execution_count": 59,
   "id": "elementary-convertible",
   "metadata": {},
   "outputs": [
    {
     "data": {
      "text/plain": [
       "55"
      ]
     },
     "execution_count": 59,
     "metadata": {},
     "output_type": "execute_result"
    }
   ],
   "source": [
    "adder(1,10)"
   ]
  },
  {
   "cell_type": "code",
   "execution_count": 61,
   "id": "practical-playback",
   "metadata": {},
   "outputs": [
    {
     "data": {
      "text/plain": [
       "495550"
      ]
     },
     "execution_count": 61,
     "metadata": {},
     "output_type": "execute_result"
    }
   ],
   "source": [
    "adder(100, 1000)"
   ]
  },
  {
   "cell_type": "code",
   "execution_count": 65,
   "id": "276db8fa",
   "metadata": {},
   "outputs": [
    {
     "data": {
      "text/plain": [
       "1000000"
      ]
     },
     "execution_count": 65,
     "metadata": {},
     "output_type": "execute_result"
    }
   ],
   "source": [
    "1_000_000"
   ]
  },
  {
   "cell_type": "code",
   "execution_count": 73,
   "id": "714b1746",
   "metadata": {},
   "outputs": [
    {
     "data": {
      "text/plain": [
       "float"
      ]
     },
     "execution_count": 73,
     "metadata": {},
     "output_type": "execute_result"
    }
   ],
   "source": [
    "type(1e6)"
   ]
  },
  {
   "cell_type": "code",
   "execution_count": 69,
   "id": "8fbafd22",
   "metadata": {},
   "outputs": [
    {
     "data": {
      "text/plain": [
       "15500.0"
      ]
     },
     "execution_count": 69,
     "metadata": {},
     "output_type": "execute_result"
    }
   ],
   "source": [
    "1.55e4"
   ]
  },
  {
   "cell_type": "code",
   "execution_count": 77,
   "id": "ab82c496",
   "metadata": {},
   "outputs": [
    {
     "data": {
      "text/plain": [
       "'1.23e11'"
      ]
     },
     "execution_count": 77,
     "metadata": {},
     "output_type": "execute_result"
    }
   ],
   "source": [
    "# scientific notation\n",
    "def scientific(number):\n",
    "    exp = 0\n",
    "    scientific = number\n",
    "    while scientific > 10:\n",
    "        scientific /= 10\n",
    "    while number > 10:\n",
    "        number //= 10\n",
    "        exp += 1\n",
    "    return f\"{scientific:.2f}e{exp}\"\n",
    "scientific(123122134234)"
   ]
  },
  {
   "cell_type": "code",
   "execution_count": 85,
   "id": "bbf2315c",
   "metadata": {},
   "outputs": [
    {
     "data": {
      "text/plain": [
       "3140000000.0"
      ]
     },
     "execution_count": 85,
     "metadata": {},
     "output_type": "execute_result"
    }
   ],
   "source": [
    "# you can recast\n",
    "float(scientific(3141592653))"
   ]
  },
  {
   "cell_type": "code",
   "execution_count": null,
   "id": "dff07a5d",
   "metadata": {},
   "outputs": [],
   "source": []
  },
  {
   "cell_type": "code",
   "execution_count": null,
   "id": "de011f57",
   "metadata": {},
   "outputs": [],
   "source": []
  },
  {
   "cell_type": "code",
   "execution_count": null,
   "id": "4749e0ad",
   "metadata": {},
   "outputs": [],
   "source": []
  },
  {
   "cell_type": "code",
   "execution_count": null,
   "id": "b7c0c045",
   "metadata": {},
   "outputs": [],
   "source": []
  },
  {
   "cell_type": "markdown",
   "id": "bb959ea4",
   "metadata": {},
   "source": [
    "### Variable Inputs (\\*args, **kwargs)\n",
    "* allow for an unspecified number of inputs\n",
    "* args treats inputs as a tuple\n",
    "* kwargs treat as a dict\n",
    "* it's the * that matters not the name"
   ]
  },
  {
   "cell_type": "code",
   "execution_count": 92,
   "id": "be6ce43d",
   "metadata": {},
   "outputs": [],
   "source": [
    "def add(*values):\n",
    "    total = 0\n",
    "    for value in values:\n",
    "        total += value\n",
    "    return total    "
   ]
  },
  {
   "cell_type": "code",
   "execution_count": 94,
   "id": "e9b9b1e2",
   "metadata": {},
   "outputs": [
    {
     "data": {
      "text/plain": [
       "10"
      ]
     },
     "execution_count": 94,
     "metadata": {},
     "output_type": "execute_result"
    }
   ],
   "source": [
    "add(10)"
   ]
  },
  {
   "cell_type": "code",
   "execution_count": 96,
   "id": "d4e4b1f1",
   "metadata": {},
   "outputs": [],
   "source": [
    "a = 10\n",
    "b = 20\n",
    "c = 30"
   ]
  },
  {
   "cell_type": "code",
   "execution_count": 98,
   "id": "88f83e6e",
   "metadata": {},
   "outputs": [
    {
     "data": {
      "text/plain": [
       "60"
      ]
     },
     "execution_count": 98,
     "metadata": {},
     "output_type": "execute_result"
    }
   ],
   "source": [
    "add(a,b,c)"
   ]
  },
  {
   "cell_type": "code",
   "execution_count": 100,
   "id": "5046f8e8",
   "metadata": {},
   "outputs": [
    {
     "data": {
      "text/plain": [
       "[10, 20, 30, 40, 50, 60, 70, 80, 90]"
      ]
     },
     "execution_count": 100,
     "metadata": {},
     "output_type": "execute_result"
    }
   ],
   "source": [
    "numbers = list(range(10,100, 10))\n",
    "numbers"
   ]
  },
  {
   "cell_type": "code",
   "execution_count": 102,
   "id": "f02e34c4",
   "metadata": {},
   "outputs": [
    {
     "ename": "TypeError",
     "evalue": "unsupported operand type(s) for +=: 'int' and 'list'",
     "output_type": "error",
     "traceback": [
      "\u001b[1;31m---------------------------------------------------------------------------\u001b[0m",
      "\u001b[1;31mTypeError\u001b[0m                                 Traceback (most recent call last)",
      "Cell \u001b[1;32mIn[102], line 1\u001b[0m\n\u001b[1;32m----> 1\u001b[0m add(numbers, a)\n",
      "Cell \u001b[1;32mIn[92], line 4\u001b[0m, in \u001b[0;36madd\u001b[1;34m(*values)\u001b[0m\n\u001b[0;32m      2\u001b[0m total \u001b[38;5;241m=\u001b[39m \u001b[38;5;241m0\u001b[39m\n\u001b[0;32m      3\u001b[0m \u001b[38;5;28;01mfor\u001b[39;00m value \u001b[38;5;129;01min\u001b[39;00m values:\n\u001b[1;32m----> 4\u001b[0m     total \u001b[38;5;241m+\u001b[39m\u001b[38;5;241m=\u001b[39m value\n\u001b[0;32m      5\u001b[0m \u001b[38;5;28;01mreturn\u001b[39;00m total\n",
      "\u001b[1;31mTypeError\u001b[0m: unsupported operand type(s) for +=: 'int' and 'list'"
     ]
    }
   ],
   "source": [
    "add(numbers, a)"
   ]
  },
  {
   "cell_type": "code",
   "execution_count": 104,
   "id": "e8b6b7ed",
   "metadata": {},
   "outputs": [
    {
     "data": {
      "text/plain": [
       "460"
      ]
     },
     "execution_count": 104,
     "metadata": {},
     "output_type": "execute_result"
    }
   ],
   "source": [
    "add(*numbers, a)"
   ]
  },
  {
   "cell_type": "code",
   "execution_count": 117,
   "id": "8b37e4d4",
   "metadata": {},
   "outputs": [
    {
     "data": {
      "text/plain": [
       "60"
      ]
     },
     "execution_count": 117,
     "metadata": {},
     "output_type": "execute_result"
    }
   ],
   "source": [
    "d = {'a':10, 'b': 20, 'c' : 30}\n",
    "add(*d.values())"
   ]
  },
  {
   "cell_type": "code",
   "execution_count": 119,
   "id": "c379d314",
   "metadata": {},
   "outputs": [],
   "source": [
    "# add custom arguments \n",
    "def printer(**kwargs):\n",
    "    for k,v in kwargs.items():\n",
    "        print(f\"{k}: {v}\")"
   ]
  },
  {
   "cell_type": "code",
   "execution_count": null,
   "id": "5f0e99eb",
   "metadata": {},
   "outputs": [],
   "source": []
  },
  {
   "cell_type": "code",
   "execution_count": 121,
   "id": "739653d4",
   "metadata": {},
   "outputs": [
    {
     "name": "stdout",
     "output_type": "stream",
     "text": [
      "Name: John\n",
      "Age: 32\n"
     ]
    }
   ],
   "source": [
    "printer(Name=\"John\", Age= 32)"
   ]
  },
  {
   "cell_type": "code",
   "execution_count": null,
   "id": "16a4976e",
   "metadata": {},
   "outputs": [],
   "source": []
  },
  {
   "cell_type": "code",
   "execution_count": null,
   "id": "a8057757",
   "metadata": {},
   "outputs": [],
   "source": []
  },
  {
   "cell_type": "code",
   "execution_count": null,
   "id": "9464293d",
   "metadata": {},
   "outputs": [],
   "source": []
  },
  {
   "cell_type": "code",
   "execution_count": null,
   "id": "f5727ade",
   "metadata": {},
   "outputs": [],
   "source": []
  },
  {
   "cell_type": "code",
   "execution_count": null,
   "id": "fb4c3580",
   "metadata": {},
   "outputs": [],
   "source": []
  },
  {
   "cell_type": "code",
   "execution_count": null,
   "id": "ac03e103",
   "metadata": {},
   "outputs": [],
   "source": []
  },
  {
   "cell_type": "code",
   "execution_count": null,
   "id": "155695ff",
   "metadata": {},
   "outputs": [],
   "source": []
  },
  {
   "cell_type": "code",
   "execution_count": null,
   "id": "6c1b7df3",
   "metadata": {},
   "outputs": [],
   "source": []
  }
 ],
 "metadata": {
  "kernelspec": {
   "display_name": "Python 3 (ipykernel)",
   "language": "python",
   "name": "python3"
  },
  "language_info": {
   "codemirror_mode": {
    "name": "ipython",
    "version": 3
   },
   "file_extension": ".py",
   "mimetype": "text/x-python",
   "name": "python",
   "nbconvert_exporter": "python",
   "pygments_lexer": "ipython3",
   "version": "3.12.4"
  }
 },
 "nbformat": 4,
 "nbformat_minor": 5
}
