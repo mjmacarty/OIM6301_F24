{
 "cells": [
  {
   "cell_type": "markdown",
   "id": "b8f4cd66",
   "metadata": {},
   "source": [
    "# matplotlib\n",
    "* premier plotting library for Python\n"
   ]
  },
  {
   "cell_type": "code",
   "execution_count": 1,
   "id": "53345f6b",
   "metadata": {},
   "outputs": [],
   "source": [
    "from math import exp, sqrt\n",
    "import matplotlib.pyplot as plt\n",
    "from random import normalvariate as norm\n"
   ]
  },
  {
   "cell_type": "code",
   "execution_count": 2,
   "id": "9c74144b",
   "metadata": {},
   "outputs": [],
   "source": [
    "r = .0525\n",
    "T = 1/252\n",
    "sigma = .30\n",
    "aapl = 187\n",
    "prices = list()\n"
   ]
  },
  {
   "cell_type": "code",
   "execution_count": null,
   "id": "b12dc6a5",
   "metadata": {},
   "outputs": [],
   "source": [
    "for day in range(63):\n",
    "    prices.append(aapl)\n",
    "    aapl *= exp((r - .5 * sigma ** 2)*T + sigma * sqrt(T) * norm(0,1))"
   ]
  },
  {
   "cell_type": "code",
   "execution_count": null,
   "id": "5fbb347d",
   "metadata": {},
   "outputs": [],
   "source": []
  },
  {
   "cell_type": "code",
   "execution_count": null,
   "id": "430aeab2",
   "metadata": {},
   "outputs": [],
   "source": []
  },
  {
   "cell_type": "code",
   "execution_count": null,
   "id": "d41f1a36",
   "metadata": {},
   "outputs": [],
   "source": []
  },
  {
   "cell_type": "code",
   "execution_count": null,
   "id": "473afe22",
   "metadata": {},
   "outputs": [],
   "source": []
  },
  {
   "cell_type": "code",
   "execution_count": null,
   "id": "e74328f4",
   "metadata": {},
   "outputs": [],
   "source": []
  },
  {
   "cell_type": "code",
   "execution_count": null,
   "id": "2b32d9a5",
   "metadata": {},
   "outputs": [],
   "source": []
  },
  {
   "cell_type": "code",
   "execution_count": null,
   "id": "0ed7c1fb",
   "metadata": {},
   "outputs": [],
   "source": []
  },
  {
   "cell_type": "code",
   "execution_count": null,
   "id": "c6ce8a30",
   "metadata": {},
   "outputs": [],
   "source": []
  },
  {
   "cell_type": "code",
   "execution_count": null,
   "id": "3e4ae141",
   "metadata": {},
   "outputs": [],
   "source": []
  },
  {
   "cell_type": "code",
   "execution_count": null,
   "id": "59b31187",
   "metadata": {},
   "outputs": [],
   "source": []
  },
  {
   "cell_type": "code",
   "execution_count": null,
   "id": "aa17b261",
   "metadata": {},
   "outputs": [],
   "source": []
  }
 ],
 "metadata": {
  "kernelspec": {
   "display_name": "Python 3 (ipykernel)",
   "language": "python",
   "name": "python3"
  },
  "language_info": {
   "codemirror_mode": {
    "name": "ipython",
    "version": 3
   },
   "file_extension": ".py",
   "mimetype": "text/x-python",
   "name": "python",
   "nbconvert_exporter": "python",
   "pygments_lexer": "ipython3",
   "version": "3.9.18"
  }
 },
 "nbformat": 4,
 "nbformat_minor": 5
}
