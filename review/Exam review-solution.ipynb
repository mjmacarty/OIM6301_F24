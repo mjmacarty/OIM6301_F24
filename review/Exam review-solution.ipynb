{
 "cells": [
  {
   "cell_type": "markdown",
   "metadata": {},
   "source": [
    "# Exam Review"
   ]
  },
  {
   "cell_type": "markdown",
   "metadata": {},
   "source": [
    "#### 1. Write code that checks if 2 inputs are true. If they are both true output \"Buy\", otherwise output \"Hold\""
   ]
  },
  {
   "cell_type": "code",
   "execution_count": 1,
   "metadata": {},
   "outputs": [
    {
     "name": "stdout",
     "output_type": "stream",
     "text": [
      "Hold\n"
     ]
    }
   ],
   "source": [
    "SMA9 = False\n",
    "SMA21 = True\n",
    "if SMA9 and SMA21:\n",
    "    print(\"Buy\")\n",
    "else:\n",
    "    print(\"Hold\")"
   ]
  },
  {
   "cell_type": "markdown",
   "metadata": {},
   "source": [
    "#### 2. Write code that tests if the sum of two inputs is 10 or if one of the inputs is 10"
   ]
  },
  {
   "cell_type": "code",
   "execution_count": 9,
   "metadata": {},
   "outputs": [
    {
     "name": "stdout",
     "output_type": "stream",
     "text": [
      "Enter your lucky number: 10\n",
      "Enter you unlucky number: 1\n",
      "True\n"
     ]
    }
   ],
   "source": [
    "x = int(input(\"Enter your lucky number: \"))\n",
    "y = int(input(\"Enter you unlucky number: \"))\n",
    "\n",
    "if sum((x,y)) == 10 or x == 10 or y == 10:\n",
    "    print(True)\n",
    "else:\n",
    "    print(False)"
   ]
  },
  {
   "cell_type": "markdown",
   "metadata": {},
   "source": [
    "#### 3. Write code that \"flips a coin\" 20 times. The code should output the longest run of \"H\" and the longest run of \"T\". Hint random.choice can be used to choose randomly from a list."
   ]
  },
  {
   "cell_type": "code",
   "execution_count": 22,
   "metadata": {},
   "outputs": [
    {
     "name": "stdout",
     "output_type": "stream",
     "text": [
      "TTHHTHTTTHHTTTHTHHTT\n",
      "TTHHTHTTTHHTTTHTHHTT\n",
      "2\n",
      "8\n"
     ]
    }
   ],
   "source": [
    "from random import choice\n",
    "coin = ['H', 'T']\n",
    "flips = ''\n",
    "\n",
    "for flip in range(20):\n",
    "    flips += choice(coin)\n",
    "print(flips)\n",
    "heads = flips.split('T') # this is a list \n",
    "tails = flips.split('H')\n",
    "max_heads = 0\n",
    "\n",
    "for item in heads:\n",
    "    if len(item) > max_heads:\n",
    "        max_heads = len(item)\n",
    "print(max_heads)\n",
    "print(flips.count('H'))"
   ]
  },
  {
   "cell_type": "markdown",
   "metadata": {},
   "source": [
    "#### 4.  Write code that takes string input and outputs the string with a random character removed. "
   ]
  },
  {
   "cell_type": "code",
   "execution_count": 38,
   "metadata": {},
   "outputs": [
    {
     "name": "stdout",
     "output_type": "stream",
     "text": [
      "Pytho\n",
      "Index of omitted letter: 5\n"
     ]
    }
   ],
   "source": [
    "from random import randint\n",
    "string = \"Python\"\n",
    "letter_to_omit = randint(0,len(string) - 1)\n",
    "revised_string = string[0:letter_to_omit] + string[letter_to_omit + 1:]\n",
    "print(revised_string)\n",
    "print(f\"Index of omitted letter: {letter_to_omit}\")"
   ]
  },
  {
   "cell_type": "markdown",
   "metadata": {},
   "source": [
    "#### 5. Write code that takes a wrapper input, such as [], {}, <>, and outputs a second input inside the wrapper, i.e. \\<html> might be an output, or {color}"
   ]
  },
  {
   "cell_type": "code",
   "execution_count": 39,
   "metadata": {},
   "outputs": [
    {
     "name": "stdout",
     "output_type": "stream",
     "text": [
      "enter a [] ,{} or <>[]\n",
      "Enter string to be wrapped: HOME\n",
      "[HOME]\n"
     ]
    }
   ],
   "source": [
    "wrapper = input('enter a [] ,{} or <>')\n",
    "tag = input(\"Enter string to be wrapped: \")\n",
    "wrapped_string = wrapper[0] + tag + wrapper[-1]\n",
    "print(wrapped_string)"
   ]
  },
  {
   "cell_type": "markdown",
   "metadata": {},
   "source": [
    "#### 6. Write code that sums all the values bewteen two inputs, for example 1 and 10 = 55"
   ]
  },
  {
   "cell_type": "code",
   "execution_count": 40,
   "metadata": {},
   "outputs": [
    {
     "name": "stdout",
     "output_type": "stream",
     "text": [
      "Enter lower limit: 1\n",
      "Enter upper limit: 10\n",
      "55\n"
     ]
    }
   ],
   "source": [
    "lower = int(input(\"Enter lower limit: \"))\n",
    "upper = int(input(\"Enter upper limit: \"))\n",
    "total = 0\n",
    "while lower <= upper:\n",
    "    total += lower\n",
    "    lower += 1\n",
    "print(total)    "
   ]
  },
  {
   "cell_type": "markdown",
   "metadata": {},
   "source": [
    "#### 7. A fibonacci sequence begins 0,1.  The sequence continues with new values being the sum of the previous two, so that the third value is 1 and the fourth is 2.  Write code that continues to add fibonacci numbers to a list until value of the fibonacci exceeds 1,000,000.  Output the list and the n of first Fibonacci to exceed 1,000,000.  "
   ]
  },
  {
   "cell_type": "code",
   "execution_count": 3,
   "metadata": {},
   "outputs": [
    {
     "name": "stdout",
     "output_type": "stream",
     "text": [
      "[0, 1, 1, 2, 3, 5, 8, 13, 21, 34, 55, 89, 144, 233, 377, 610, 987, 1597, 2584, 4181, 6765, 10946, 17711, 28657, 46368, 75025, 121393, 196418, 317811, 514229, 832040, 1346269]\n",
      "33\n"
     ]
    }
   ],
   "source": [
    "fibs = [0,1]\n",
    "\n",
    "while fibs[-1] < 1e6:\n",
    "    fibs.append(fibs[-2] + fibs[-1])\n",
    "    \n",
    "print(fibs)\n",
    "print(len(fibs) + 1)"
   ]
  },
  {
   "cell_type": "markdown",
   "metadata": {},
   "source": [
    "#### 8. Write code to calculate a trimmed mean, that is a mean excludes some small percentage of low and high values.  Using the values below, calculate a 5% trimmed mean."
   ]
  },
  {
   "cell_type": "code",
   "execution_count": 54,
   "metadata": {},
   "outputs": [
    {
     "name": "stdout",
     "output_type": "stream",
     "text": [
      "144.29\n"
     ]
    }
   ],
   "source": [
    "x = [140.66,143.33,150.28,136.18, 151.07, 140.98, 143.19, \n",
    "     154.19, 143.47, 143.36, 152.67,137.73, 136.37, \n",
    "     135.61, 143.89, 144.48, 153.95, 154.83, 138.09, 143.33]\n",
    "count = len(x)\n",
    "trim = int(0.05 * count)\n",
    "x.sort()\n",
    "trimmed_mean = sum(x[trim:-trim]) / (count - 2 * trim)\n",
    "print(trimmed_mean)"
   ]
  },
  {
   "cell_type": "markdown",
   "metadata": {},
   "source": [
    "#### 9. Write code that determines the median of the above data set. Use no import. The code should work equally well for datasets with an even or odd number of values"
   ]
  },
  {
   "cell_type": "code",
   "execution_count": 83,
   "metadata": {},
   "outputs": [
    {
     "name": "stdout",
     "output_type": "stream",
     "text": [
      "143.35\n"
     ]
    }
   ],
   "source": [
    "# x is already sorted if you completed exercise 8, otherwise x.sort()\n",
    "import math\n",
    "count = len(x) \n",
    "if not len(x) % 2:\n",
    "    median = (x[count//2 -1] + x[count//2]) / 2\n",
    "else:\n",
    "    median = x[math.floor(len(x) * 0.5)] # or len(x) // 2\n",
    "print(f\"{median:.2f}\")"
   ]
  },
  {
   "cell_type": "markdown",
   "metadata": {},
   "source": [
    "#### 10. Write code that produces the output below"
   ]
  },
  {
   "cell_type": "code",
   "execution_count": 81,
   "metadata": {},
   "outputs": [
    {
     "name": "stdout",
     "output_type": "stream",
     "text": [
      "* * * * * *  \n",
      " * * * * *   \n",
      "  * * * *    \n",
      "   * * *     \n",
      "    * *      \n",
      "     *       \n"
     ]
    }
   ],
   "source": [
    "for j in range(6,0, -1):\n",
    "    print(f'{\"* \" * j:^12s}', end = \" \")\n",
    "    print()"
   ]
  },
  {
   "cell_type": "code",
   "execution_count": 82,
   "metadata": {},
   "outputs": [
    {
     "data": {
      "text/plain": [
       "[135.61,\n",
       " 136.18,\n",
       " 136.37,\n",
       " 137.73,\n",
       " 138.09,\n",
       " 140.66,\n",
       " 140.98,\n",
       " 143.19,\n",
       " 143.33,\n",
       " 143.33,\n",
       " 143.36,\n",
       " 143.47,\n",
       " 143.89,\n",
       " 144.48,\n",
       " 150.28,\n",
       " 151.07,\n",
       " 152.67,\n",
       " 153.95,\n",
       " 154.19,\n",
       " 154.83]"
      ]
     },
     "execution_count": 82,
     "metadata": {},
     "output_type": "execute_result"
    }
   ],
   "source": [
    "x"
   ]
  },
  {
   "cell_type": "code",
   "execution_count": null,
   "metadata": {},
   "outputs": [],
   "source": []
  }
 ],
 "metadata": {
  "kernelspec": {
   "display_name": "Python 3 (ipykernel)",
   "language": "python",
   "name": "python3"
  },
  "language_info": {
   "codemirror_mode": {
    "name": "ipython",
    "version": 3
   },
   "file_extension": ".py",
   "mimetype": "text/x-python",
   "name": "python",
   "nbconvert_exporter": "python",
   "pygments_lexer": "ipython3",
   "version": "3.9.13"
  }
 },
 "nbformat": 4,
 "nbformat_minor": 4
}
