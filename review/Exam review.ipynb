{
 "cells": [
  {
   "cell_type": "markdown",
   "metadata": {},
   "source": [
    "# Exam Review"
   ]
  },
  {
   "cell_type": "markdown",
   "metadata": {},
   "source": [
    "#### 1. Write code that checks if 2 inputs are true. If they are both true output \"Buy\", otherwise output \"Hold\""
   ]
  },
  {
   "cell_type": "code",
   "execution_count": 28,
   "metadata": {},
   "outputs": [],
   "source": [
    "SMA9 = False\n",
    "SMA21 = True\n"
   ]
  },
  {
   "cell_type": "markdown",
   "metadata": {},
   "source": [
    "#### 2. Write code that tests if the sum of two inputs is 10 or if one of the inputs is 10"
   ]
  },
  {
   "cell_type": "code",
   "execution_count": null,
   "metadata": {},
   "outputs": [],
   "source": []
  },
  {
   "cell_type": "markdown",
   "metadata": {},
   "source": [
    "#### 3. Write code that \"flips a coin\" 20 times. The code should output the longest run of \"H\" and the longest run of \"T\". Hint random.choice can be used to choose randomly from a list."
   ]
  },
  {
   "cell_type": "code",
   "execution_count": null,
   "metadata": {},
   "outputs": [],
   "source": []
  },
  {
   "cell_type": "markdown",
   "metadata": {},
   "source": [
    "#### 4.  Write code that takes string input and outputs the string with a random character removed. "
   ]
  },
  {
   "cell_type": "code",
   "execution_count": 3,
   "metadata": {},
   "outputs": [
    {
     "name": "stdout",
     "output_type": "stream",
     "text": [
      "7\n",
      "Msssspp\n",
      "Mississppi\n"
     ]
    }
   ],
   "source": [
    "from random import randint\n",
    "string = \"Mississippi\"\n",
    "letter_to_omit = randint(0, len(string) - 1)\n",
    "print(letter_to_omit)\n",
    "revised_string = string.replace(string[letter_to_omit], '')\n",
    "other_string = string[0:letter_to_omit] + string[letter_to_omit+1:]\n",
    "print(revised_string)\n",
    "print(other_string)"
   ]
  },
  {
   "cell_type": "markdown",
   "metadata": {},
   "source": [
    "#### 5. Write code that takes a wrapper input, such as [], {}, <>, and outputs a second input inside the wrapper, i.e. \\<html> might be an output, or {color}"
   ]
  },
  {
   "cell_type": "code",
   "execution_count": null,
   "metadata": {},
   "outputs": [],
   "source": []
  },
  {
   "cell_type": "code",
   "execution_count": null,
   "metadata": {},
   "outputs": [],
   "source": []
  },
  {
   "cell_type": "markdown",
   "metadata": {},
   "source": [
    "#### 6. Write code that sums all the values bewteen two inputs, for example 1 and 10 = 55"
   ]
  },
  {
   "cell_type": "code",
   "execution_count": null,
   "metadata": {},
   "outputs": [],
   "source": [
    "\n"
   ]
  },
  {
   "cell_type": "markdown",
   "metadata": {},
   "source": [
    "#### 7. A fibonacci sequence begins 0,1.  The sequence continues with new values being the sum of the previous two, so that the third value is 1 and the fourth is 2, and so on.  Write code that continues to add fibonacci numbers to a list until value of the fibonacci exceeds 1,000,000.  Output the list and the n of first Fibonacci to exceed 1,000,000.  "
   ]
  },
  {
   "cell_type": "code",
   "execution_count": null,
   "metadata": {},
   "outputs": [],
   "source": []
  },
  {
   "cell_type": "markdown",
   "metadata": {},
   "source": [
    "#### 8. Write code to calculate a trimmed mean, that is a mean that excludes some small percentage of low and high values.  Using the values below, calculate a 5% trimmed mean."
   ]
  },
  {
   "cell_type": "code",
   "execution_count": 29,
   "metadata": {},
   "outputs": [],
   "source": [
    "import math\n",
    "x = [140.66,143.33,150.28,136.18, 151.07, 140.98, 143.19, \n",
    "     154.19, 143.47, 143.36, 152.67,137.73, 136.37, \n",
    "     135.61, 143.89, 144.48, 153.95, 154.83, 138.09, 143.33]\n",
    "\n"
   ]
  },
  {
   "cell_type": "markdown",
   "metadata": {},
   "source": [
    "#### 9. Write code that determines the median of the above data set. Use no import. The code should work equally well for datasets with an even or odd number of values"
   ]
  },
  {
   "cell_type": "code",
   "execution_count": 30,
   "metadata": {},
   "outputs": [],
   "source": [
    "# x is already sorted if you completed exercise 8, otherwise x.sort()\n",
    "\n",
    "\n",
    "\n",
    "\n",
    "\n"
   ]
  },
  {
   "cell_type": "markdown",
   "metadata": {},
   "source": [
    "#### 10. Write code that produces the output below, using a for loop"
   ]
  },
  {
   "cell_type": "code",
   "execution_count": 32,
   "metadata": {},
   "outputs": [],
   "source": [
    "#print(f\"{'* ' * 6:^12s}\")\n",
    "#print(f\"{'* ' * 5:^12s}\")\n",
    "\n"
   ]
  },
  {
   "cell_type": "code",
   "execution_count": null,
   "metadata": {},
   "outputs": [],
   "source": []
  },
  {
   "cell_type": "code",
   "execution_count": null,
   "metadata": {},
   "outputs": [],
   "source": []
  }
 ],
 "metadata": {
  "kernelspec": {
   "display_name": "Python 3 (ipykernel)",
   "language": "python",
   "name": "python3"
  },
  "language_info": {
   "codemirror_mode": {
    "name": "ipython",
    "version": 3
   },
   "file_extension": ".py",
   "mimetype": "text/x-python",
   "name": "python",
   "nbconvert_exporter": "python",
   "pygments_lexer": "ipython3",
   "version": "3.11.3"
  }
 },
 "nbformat": 4,
 "nbformat_minor": 4
}
