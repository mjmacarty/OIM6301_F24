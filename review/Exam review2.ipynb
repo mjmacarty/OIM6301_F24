{
 "cells": [
  {
   "cell_type": "markdown",
   "metadata": {
    "id": "2rSqHLC1izuZ"
   },
   "source": [
    "# 1  List Processing\n",
    "\n",
    "Trace this code and provide the output. Add a statement print(dogs) and run the program to verify you are correct."
   ]
  },
  {
   "cell_type": "code",
   "execution_count": 8,
   "metadata": {
    "id": "h1ZMWG81i_jX"
   },
   "outputs": [
    {
     "name": "stdout",
     "output_type": "stream",
     "text": [
      "['Beagle', 'Coach', 'Beagle', 'Spot', 'Fido']\n"
     ]
    }
   ],
   "source": [
    "dogs = [\"Fido\", \"Rover\"]\n",
    "dogs.pop(1)\n",
    "pets = [\"Spot\",\"Max\", \"Buster\"]\n",
    "for p in pets:\n",
    "    dogs.append(p)\n",
    "dogs.remove(\"Max\")\n",
    "dogs.append(\"Buster\")\n",
    "dogs.insert(3, \"Coach\")\n",
    "dogs = [\"Beagle\" if dog == \"Buster\" else dog for dog in dogs]\n",
    "dogs = dogs[::-1]\n",
    "print(dogs)\n"
   ]
  },
  {
   "cell_type": "markdown",
   "metadata": {
    "id": "iQT4Z78m-8Fg"
   },
   "source": [
    "Given the 3 lists below, create, in one line of code, a list of tuples containing the name, animal type, and age of each animal.\n",
    "\n",
    "Sample output:\n",
    "\n",
    "```\n",
    "[('Snowball', 'Cat', 1), ('Chewy', 'Dog', 2), ('Bubbles', 'Fish', 2), ('Gruff', 'Goat', 6)]\n",
    "\n",
    "```\n",
    "\n"
   ]
  },
  {
   "cell_type": "code",
   "execution_count": 27,
   "metadata": {
    "colab": {
     "base_uri": "https://localhost:8080/"
    },
    "id": "0q86NUY7_Bc-",
    "outputId": "84e45d7a-94f6-40ab-9d9d-39bd18719e4d"
   },
   "outputs": [],
   "source": [
    "name = ['Snowball', 'Chewy', 'Bubbles', 'Gruff']\n",
    "animal = ['Cat', 'Dog', 'Fish', 'Goat']\n",
    "age = [1, 2, 2, 6]\n"
   ]
  },
  {
   "cell_type": "code",
   "execution_count": null,
   "metadata": {},
   "outputs": [],
   "source": []
  },
  {
   "cell_type": "markdown",
   "metadata": {
    "id": "4F9Rr27P6oyW"
   },
   "source": [
    "# 2 Dictionaries"
   ]
  },
  {
   "cell_type": "markdown",
   "metadata": {
    "id": "8y5JTHei9XnZ"
   },
   "source": [
    "(a) Write code to create a dictionary named dict_colors, where the keys are colors in the color list, and their values are random numbers between 1 and 100. Print the dictionary.\n",
    "\n",
    "(b) Modify the dictionary to increase each value by 1, and print the resulting dictionary.\n",
    "\n",
    "(c) Find smallest value of any color in the dictionary.  Print the smallest value.\n",
    "\n",
    "(d) Remove the color(s) with the smallest value from the dictionary. Hint:  You must create a copy to iterate over as changing the size of the dictionary inside of a loop causes a RunTimeError. Iterate over the key, value pairs in your dictionary copy using items() and compare each value to the value you are looking for. If they match, delete the key from the dictionary.\n",
    "\n",
    "Sample output:\n",
    "\n",
    "```\n",
    "{'red': 99, 'green': 2, 'blue': 3, 'yellow': 14}\n",
    "{'red': 100, 'green': 3, 'blue': 4, 'yellow': 15}\n",
    "Smallest:  3\n",
    "{'red': 100, 'blue': 4, 'yellow': 15}\n",
    "```\n",
    "\n",
    "\n"
   ]
  },
  {
   "cell_type": "code",
   "execution_count": 29,
   "metadata": {
    "colab": {
     "base_uri": "https://localhost:8080/"
    },
    "id": "dg33BNYS6r-b",
    "outputId": "ed517123-266e-44fe-8e5f-539091588676"
   },
   "outputs": [],
   "source": [
    "import random \n",
    "colors = [\"red\",\"green\",\"blue\",\"yellow\"]\n",
    "dict_colors = {} #dict()\n",
    "\n",
    "#  code for part (a) - assign random values to each color\n",
    "#  and store in a dictionary\n",
    "\n",
    "\n",
    "#  code for part (b) - increase each color value by 1\n",
    "\n",
    "# {k : v + 1 for k,v in dict_colors.items()} - alternative with comprehension    \n",
    "#  code for part (c) - find the smallest value\n",
    "\n",
    "smallest = 100  # replace with your code\n",
    "    \n",
    "#  code for part (d) - remove each color with the smallest value\n",
    "\n"
   ]
  },
  {
   "cell_type": "code",
   "execution_count": 30,
   "metadata": {},
   "outputs": [],
   "source": [
    "# sample dict_colors\n"
   ]
  },
  {
   "cell_type": "code",
   "execution_count": 31,
   "metadata": {},
   "outputs": [
    {
     "data": {
      "text/plain": [
       "{'key': 0}"
      ]
     },
     "execution_count": 31,
     "metadata": {},
     "output_type": "execute_result"
    }
   ],
   "source": [
    "# sample adding key and value to a dict\n",
    "d = dict()\n",
    "d['key'] = 0\n",
    "d\n"
   ]
  },
  {
   "cell_type": "markdown",
   "metadata": {
    "id": "LFRKAKyTkVEM"
   },
   "source": [
    "# 3 Dictionary of Lists\n",
    "Write code to perform both calculations described.\n",
    "\n",
    "(a) write code to determine the most price of the most expensive hotel in each city.\n",
    "\n",
    "(b) write code to determine the mosst expensive hotel among all of the cities, and the city in which it is located.\n",
    "\n",
    "Sample output. \n",
    "```\n",
    "The most expensive hotel in Amsterdam costs $190.00.\n",
    "The most expensive hotel in Athens costs $126.00.\n",
    "The most expensive hotel in Bangkok costs $194.00.\n",
    "The most expensive hotel in Barcelona costs $165.00.\n",
    "\n",
    "The most expensive hotel is in Bangkok and costs $194.00.\n",
    "```\n",
    "\n"
   ]
  },
  {
   "cell_type": "code",
   "execution_count": 4,
   "metadata": {
    "colab": {
     "base_uri": "https://localhost:8080/"
    },
    "id": "IQSIOXiCkaAi",
    "outputId": "ccec331f-e7a2-4f03-a1a3-7839eec4ea15"
   },
   "outputs": [],
   "source": [
    "hotel_prices = {\"Amsterdam\":[ 185, 174, 190],\n",
    "                \"Athens\": [126, 118, 96],\n",
    "                \"Bangkok\": [86, 91, 194],\n",
    "                \"Barcelona\": [165, 151, 115]}\n",
    "\n",
    "# (a) write code to determine the most price of the most expensive hotel in each city.\n",
    "\n",
    "\n",
    "# (b) write code to determine the most expensive hotel among all of the cities, \n",
    "#     and the city in which it is located.\n",
    "maxi = 0\n"
   ]
  },
  {
   "cell_type": "code",
   "execution_count": 21,
   "metadata": {},
   "outputs": [
    {
     "data": {
      "text/plain": [
       "190"
      ]
     },
     "execution_count": 21,
     "metadata": {},
     "output_type": "execute_result"
    }
   ],
   "source": [
    "max([185,174,190])"
   ]
  },
  {
   "cell_type": "markdown",
   "metadata": {
    "id": "-Cx8qRx1oz7O"
   },
   "source": [
    "# 4 List of Dictionaries"
   ]
  },
  {
   "cell_type": "markdown",
   "metadata": {
    "id": "GNpf2NzNqh1Z"
   },
   "source": [
    "Given the list of dictionaries below, print each person's name and age, and then print the name and age of the youngest person.\n",
    "\n",
    "```\n",
    "Miraj 30\n",
    "Tamara 24\n",
    "Lelise 25\n",
    "Phung 27\n",
    "Tamara is the youngest, at age 24\n",
    "```\n",
    "\n"
   ]
  },
  {
   "cell_type": "code",
   "execution_count": 5,
   "metadata": {
    "colab": {
     "base_uri": "https://localhost:8080/"
    },
    "id": "UI09uh6YpOna",
    "outputId": "62598c9e-b6b4-447f-ea97-87bdad890e4f"
   },
   "outputs": [],
   "source": [
    "data = [ {\"name\": \"Miraj\", \"age\": 30, \"salary\": 80000},\n",
    "         {\"name\": \"Tamara\", \"age\": 24, \"salary\": 90000},\n",
    "        {\"name\": \"Lelise\", \"age\": 25, \"salary\": 65000},\n",
    "        {\"name\": \"Phung\", \"age\": 27, \"salary\": 74000}]\n",
    "\n",
    "# your code here\n",
    "\n"
   ]
  },
  {
   "cell_type": "code",
   "execution_count": null,
   "metadata": {},
   "outputs": [],
   "source": []
  },
  {
   "cell_type": "markdown",
   "metadata": {
    "id": "--5kTusnlD5j"
   },
   "source": [
    "# 5  List Comprehensions and Lists of Lists\n",
    "\n",
    "Write a list comprehension to create a new list removing every even number from my_list"
   ]
  },
  {
   "cell_type": "code",
   "execution_count": 6,
   "metadata": {
    "id": "ebLpqP6ilDm3"
   },
   "outputs": [
    {
     "name": "stdout",
     "output_type": "stream",
     "text": [
      "[]\n"
     ]
    }
   ],
   "source": [
    "my_list = [1,2,4,5,6,3,10,2,4]\n",
    "odds = []  # replace this line with your solution\n",
    "\n",
    "print(odds)"
   ]
  },
  {
   "cell_type": "markdown",
   "metadata": {
    "id": "W9eKEivglc7U"
   },
   "source": [
    "Create a multiplication table represented as a list of lists containing the products of numbers from 1x1 to 4x4 using a list comprehension.  \n",
    "\n",
    "\n",
    "```\n",
    "[[1, 2, 3, 4], [2, 4, 6, 8], [3, 6, 9, 12], [4, 8, 12, 16]]\n",
    "```\n",
    "\n"
   ]
  },
  {
   "cell_type": "code",
   "execution_count": 7,
   "metadata": {
    "colab": {
     "base_uri": "https://localhost:8080/"
    },
    "id": "q9yRaALjlx4_",
    "outputId": "79d01291-867c-4ae0-95af-63838f6ea407"
   },
   "outputs": [],
   "source": [
    "table = [] #  replace this line with your solution\n",
    "for row in table:\n",
    "    print(row)"
   ]
  },
  {
   "cell_type": "markdown",
   "metadata": {
    "id": "Y1BuGoHgl3TD"
   },
   "source": [
    "# 6 Functions\n",
    "\n",
    "Write a function that takes a list as a parameter and calculates the product of the first and last numbers in the list. Your function should work with the main program provided.\n",
    "\n",
    "\n",
    "```\n",
    "[2, 4, 6] 12\n",
    "```\n",
    "\n"
   ]
  },
  {
   "cell_type": "code",
   "execution_count": 8,
   "metadata": {
    "id": "s-Y1Iok8mFQZ"
   },
   "outputs": [
    {
     "name": "stdout",
     "output_type": "stream",
     "text": [
      "[2, 4, 6] None\n"
     ]
    }
   ],
   "source": [
    "# replace the function definition statement and the code for the function\n",
    "def first_x_last(values):  \n",
    "    # remove the pass statement and replace with your code\n",
    "    pass\n",
    "\n",
    "def main():\n",
    "    my_list = [2, 4, 6]\n",
    "    result = first_x_last(my_list)\n",
    "    print(my_list, result)\n",
    "\n",
    "main()\n"
   ]
  },
  {
   "cell_type": "code",
   "execution_count": null,
   "metadata": {},
   "outputs": [],
   "source": []
  },
  {
   "cell_type": "markdown",
   "metadata": {
    "id": "dBY_RrrNrDCA"
   },
   "source": [
    "Write a function addItemQuant(dict, item, quantity=1) that has three arguments:\n",
    "\n",
    "\n",
    "*   dict, a dictionary\n",
    "*   item, the item to add to a dictionary\n",
    "*   quantity (optional argument with a default value of 1)\n",
    "\n",
    "The function returns the dictionary with the item (as key) added and its value is increased by the value of quantity.  If no value of quantity is passed in when the function is called, the function uses the default value of 1.\n",
    "\n",
    "\n"
   ]
  },
  {
   "cell_type": "code",
   "execution_count": null,
   "metadata": {
    "colab": {
     "base_uri": "https://localhost:8080/"
    },
    "id": "3kI-uZGGm7vp",
    "outputId": "c93885f6-51aa-4da8-ffa6-5cd55e202fd5"
   },
   "outputs": [
    {
     "name": "stdout",
     "output_type": "stream",
     "text": [
      "{'chicken': 3, 'goose': 1, 'turkey': 5}\n"
     ]
    }
   ],
   "source": [
    "def addItemQuant(): # add the parameters to the parameter list\n",
    "    # replace the pass statement with your code\n",
    "    pass\n",
    "\n",
    "fowl = {}\n",
    "fowl = addItemQuant(fowl, \"chicken\",3)\n",
    "fowl = addItemQuant(fowl, \"goose\")\n",
    "fowl = addItemQuant(fowl, \"turkey\", 4)\n",
    "fowl = addItemQuant(fowl, \"turkey\")\n",
    "print(fowl)\n"
   ]
  }
 ],
 "metadata": {
  "colab": {
   "name": "Spring 2021 CS230 Quiz 2 Practice Questions.ipynb",
   "provenance": [],
   "toc_visible": true
  },
  "kernelspec": {
   "display_name": "Python 3 (ipykernel)",
   "language": "python",
   "name": "python3"
  },
  "language_info": {
   "codemirror_mode": {
    "name": "ipython",
    "version": 3
   },
   "file_extension": ".py",
   "mimetype": "text/x-python",
   "name": "python",
   "nbconvert_exporter": "python",
   "pygments_lexer": "ipython3",
   "version": "3.11.3"
  }
 },
 "nbformat": 4,
 "nbformat_minor": 1
}
